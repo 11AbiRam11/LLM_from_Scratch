{
 "cells": [
  {
   "cell_type": "code",
   "execution_count": 19,
   "id": "bf1bc3f9-c7ef-4907-8586-0e5d2c06f08e",
   "metadata": {},
   "outputs": [],
   "source": [
    "import re\n",
    "import tiktoken\n",
    "encoding = tiktoken.get_encoding(\"gpt2\")\n",
    "import re"
   ]
  },
  {
   "cell_type": "code",
   "execution_count": 38,
   "id": "652355c9-db08-405c-a9de-c9151686adad",
   "metadata": {},
   "outputs": [],
   "source": [
    "files = [\n",
    "    \"./TrainingData/the-verdict.txt\",\n",
    "    \"./TrainingData/Shakespeare.txt\",\n",
    "    \"./TrainingData/Atomic habits.txt\",\n",
    "    \"./TrainingData/DO-HARD-THINGS.txt\",\n",
    "    \"./TrainingData/Rich Dad Poor Dad.txt\",\n",
    "]\n",
    "\n",
    "corpus = \"\"\n",
    "for file in files:\n",
    "    with open(file, encoding=\"utf-8\") as f:\n",
    "        corpus += f.read()\n"
   ]
  },
  {
   "cell_type": "code",
   "execution_count": 39,
   "id": "88d094d8-716d-434b-a86e-625c1e75c369",
   "metadata": {},
   "outputs": [
    {
     "data": {
      "text/plain": [
       "5446648"
      ]
     },
     "execution_count": 39,
     "metadata": {},
     "output_type": "execute_result"
    }
   ],
   "source": [
    "len(corpus)"
   ]
  },
  {
   "cell_type": "code",
   "execution_count": 40,
   "id": "128b8bef-308f-43b7-852d-9dc6eebbf734",
   "metadata": {},
   "outputs": [
    {
     "data": {
      "text/plain": [
       "'I HAD always thought Jack Gisburn rather a cheap genius--though a good fellow enough--so it was no great surprise to me to hear that, in the height of his glory, he had dropped his painting, married a rich widow, and established himself in a villa on the Riviera. (Though I rather thought it would have been Rome or Florence.)\\n\\n\"The height of his glory\"--that was what the women called it. I can hear Mrs. Gideon Thwing--his last Chicago sitter--deploring his unaccountable abdication. \"Of course it\\'s going to send the value of my picture \\'way up; but I don\\'t think of that, Mr. Rickham--the loss to Arrt is all I think of.\" The word, on Mrs. Thwing\\'s lips, multiplied its _rs_ as though they were reflected in an endless vista of mirrors. And it was not only the Mrs. Thwings who mourned. Had not the exquisite Hermia Croft, at the last Grafton Gallery show, stopped me before Gisburn\\'s \"Moon-dancers\" to say, with tears in her eyes: \"We shall not look upon its like again\"?\\n\\nWell!--even through th'"
      ]
     },
     "execution_count": 40,
     "metadata": {},
     "output_type": "execute_result"
    }
   ],
   "source": [
    "corpus[:1000]"
   ]
  },
  {
   "cell_type": "code",
   "execution_count": 41,
   "id": "664bdb61-7499-4f5a-b3ff-f04498829f4c",
   "metadata": {},
   "outputs": [],
   "source": [
    "words = corpus.split()"
   ]
  },
  {
   "cell_type": "code",
   "execution_count": 42,
   "id": "89ba5e4e-d53a-4c33-8d46-0f3a97bac096",
   "metadata": {},
   "outputs": [
    {
     "data": {
      "text/plain": [
       "964695"
      ]
     },
     "execution_count": 42,
     "metadata": {},
     "output_type": "execute_result"
    }
   ],
   "source": [
    "len(words)"
   ]
  },
  {
   "cell_type": "code",
   "execution_count": 43,
   "id": "32b8e87f-5fe8-4496-9491-13ac801ca597",
   "metadata": {},
   "outputs": [],
   "source": [
    "remove_chars = r\"[\\\\\\-'\\\"“”‘’•©@$,;:.\\—£()\\n\\x0c\\d%&#\\*+/=>–?]\"\n",
    "corpus = re.sub(remove_chars, \"\", corpus)\n",
    "\n",
    "#removing http links\n",
    "corpus = re.sub(r'\\bhttp\\S*', '', corpus)\n",
    "corpus = re.sub(r'\\b\\w*http\\w*\\b', '', corpus)"
   ]
  },
  {
   "cell_type": "code",
   "execution_count": 44,
   "id": "ef6a1909-2759-4465-8f82-2c7d3d1ce980",
   "metadata": {},
   "outputs": [
    {
     "data": {
      "text/plain": [
       "'I HAD always thought Jack Gisburn rather a cheap geniusthough a good fellow enoughso it was no great surprise to me to hear that in the height of his glory he had dropped his painting married a rich widow and established himself in a villa on the Riviera Though I rather thought it would have been Rome or FlorenceThe height of his glorythat was what the women called it I can hear Mrs Gideon Thwinghis last Chicago sitterdeploring his unaccountable abdication Of course its going to send the value of my picture way up but I dont think of that Mr Rickhamthe loss to Arrt is all I think of The word on Mrs Thwings lips multiplied its _rs_ as though they were reflected in an endless vista of mirrors And it was not only the Mrs Thwings who mourned Had not the exquisite Hermia Croft at the last Grafton Gallery show stopped me before Gisburns Moondancers to say with tears in her eyes We shall not look upon its like aga'"
      ]
     },
     "execution_count": 44,
     "metadata": {},
     "output_type": "execute_result"
    }
   ],
   "source": [
    "corpus[:920]"
   ]
  },
  {
   "cell_type": "code",
   "execution_count": 45,
   "id": "e0d3ced1-1a2a-49e9-aa20-25e19f5e2301",
   "metadata": {},
   "outputs": [],
   "source": [
    "words = corpus.split()"
   ]
  },
  {
   "cell_type": "code",
   "execution_count": 46,
   "id": "5d859349-1631-48dc-bced-08f12e075f6c",
   "metadata": {},
   "outputs": [
    {
     "data": {
      "text/plain": [
       "838284"
      ]
     },
     "execution_count": 46,
     "metadata": {},
     "output_type": "execute_result"
    }
   ],
   "source": [
    "len(words)"
   ]
  },
  {
   "cell_type": "code",
   "execution_count": 47,
   "id": "e1ccc119-cc48-4270-b34f-1828c7346651",
   "metadata": {},
   "outputs": [
    {
     "data": {
      "text/plain": [
       "124174"
      ]
     },
     "execution_count": 47,
     "metadata": {},
     "output_type": "execute_result"
    }
   ],
   "source": [
    "unique_words = sorted(set(words))\n",
    "len(unique_words)"
   ]
  },
  {
   "cell_type": "code",
   "execution_count": 100,
   "id": "4535e14b-36c3-40af-a9dc-2f64936bed59",
   "metadata": {},
   "outputs": [],
   "source": [
    "vocab = list()\n",
    "for i in unique_words:\n",
    "    if len(i) <= 15:\n",
    "        vocab.append(i)"
   ]
  },
  {
   "cell_type": "code",
   "execution_count": 101,
   "id": "500fdd45-4518-410d-a140-93ef29d3777f",
   "metadata": {},
   "outputs": [
    {
     "data": {
      "text/plain": [
       "119873"
      ]
     },
     "execution_count": 101,
     "metadata": {},
     "output_type": "execute_result"
    }
   ],
   "source": [
    "len(vocab)"
   ]
  },
  {
   "cell_type": "code",
   "execution_count": 104,
   "id": "fc4f2735-a92b-4761-9bfc-31c2b60f6fe4",
   "metadata": {},
   "outputs": [
    {
     "data": {
      "text/plain": [
       "['zone',\n",
       " 'zoneMake',\n",
       " 'zoneRaising',\n",
       " 'zones',\n",
       " 'zonesgoing',\n",
       " 'zounds!',\n",
       " 'zoundsI',\n",
       " 'zwaggered',\n",
       " 'Über',\n",
       " '−']"
      ]
     },
     "execution_count": 104,
     "metadata": {},
     "output_type": "execute_result"
    }
   ],
   "source": [
    "vocab[-10:]"
   ]
  },
  {
   "cell_type": "code",
   "execution_count": 105,
   "id": "5b8fd74f-0f0f-45d1-8de1-953a31d9ecca",
   "metadata": {},
   "outputs": [
    {
     "data": {
      "text/plain": [
       "list"
      ]
     },
     "execution_count": 105,
     "metadata": {},
     "output_type": "execute_result"
    }
   ],
   "source": [
    "type(vocab)"
   ]
  },
  {
   "cell_type": "code",
   "execution_count": 53,
   "id": "2e7d65b9-4e82-49d4-9123-ff3bf50468d9",
   "metadata": {},
   "outputs": [],
   "source": [
    "class bpeTokenizer():\n",
    "    def __init__(self, encoding = \"gpt2\"):\n",
    "        # initialize encoder\n",
    "        self.encoding = tiktoken.get_encoding(encoding)\n",
    "        self.raw_text = \"\"\n",
    "\n",
    "    def encode(self, text):\n",
    "        if isinstance(text, str):\n",
    "            return self.encoding.encode(text)\n",
    "        elif isinstance(text, list):\n",
    "            tokens = []\n",
    "            for word in text:\n",
    "                tokens += self.encoding.encode(word)\n",
    "            return tokens\n",
    "        else:\n",
    "            raise TypeError(\"Input must be str or list of str\")\n",
    "\n",
    "\n",
    "    def decode(self, tokens):\n",
    "        if isinstance(tokens, int):\n",
    "            return self.encoding.decode([tokens])   # single token\n",
    "        elif isinstance(tokens, list):\n",
    "            return self.encoding.decode(tokens)     # full list\n",
    "        else:\n",
    "            raise TypeError(\"tokens must be int or list of ints\")\n",
    "                "
   ]
  },
  {
   "cell_type": "code",
   "execution_count": 106,
   "id": "d32b6a02-d6c1-4b11-a3d4-fbe9be5017c0",
   "metadata": {},
   "outputs": [],
   "source": [
    "tokenizer = bpeTokenizer()"
   ]
  },
  {
   "cell_type": "code",
   "execution_count": 107,
   "id": "eb3ea3d2-14dc-4ae3-a024-c8227e58f8eb",
   "metadata": {},
   "outputs": [],
   "source": [
    "ids = tokenizer.encode(vocab)"
   ]
  },
  {
   "cell_type": "code",
   "execution_count": 108,
   "id": "050d691b-b6a3-458e-ade8-eb746c849682",
   "metadata": {},
   "outputs": [
    {
     "data": {
      "text/plain": [
       "337604"
      ]
     },
     "execution_count": 108,
     "metadata": {},
     "output_type": "execute_result"
    }
   ],
   "source": [
    "len(ids)"
   ]
  },
  {
   "cell_type": "code",
   "execution_count": null,
   "id": "a5f6be1c-dc6a-4d03-8733-895b7805f468",
   "metadata": {},
   "outputs": [],
   "source": []
  }
 ],
 "metadata": {
  "kernelspec": {
   "display_name": "Python 3 (ipykernel)",
   "language": "python",
   "name": "python3"
  },
  "language_info": {
   "codemirror_mode": {
    "name": "ipython",
    "version": 3
   },
   "file_extension": ".py",
   "mimetype": "text/x-python",
   "name": "python",
   "nbconvert_exporter": "python",
   "pygments_lexer": "ipython3",
   "version": "3.13.5"
  }
 },
 "nbformat": 4,
 "nbformat_minor": 5
}
